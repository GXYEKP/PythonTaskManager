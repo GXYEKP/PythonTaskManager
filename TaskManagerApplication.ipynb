{
 "cells": [
  {
   "cell_type": "code",
   "execution_count": 2,
   "id": "709552e9-1a2a-42be-8ab1-4fb8e7707e4c",
   "metadata": {},
   "outputs": [],
   "source": [
    "import json\n",
    "import os\n",
    "from datetime import datetime\n",
    "\n",
    "TASKS_FILE = \"tasks.jason\"\n",
    "\n",
    "# Load work from json file\n",
    "def load_tasks():\n",
    "    if not os.path.exists(TASKS_FILE):\n",
    "        return []\n",
    "    with open(TASKS_FILE, \"r\") as file:\n",
    "        return json.load(file)\n",
    "\n",
    "# Save work to json file\n",
    "def save_tasks(tasks):\n",
    "    with open(TASKS_FILE, \"w\") as file:\n",
    "        json.dump(tasks, file, indent=4)\n",
    "\n",
    "# verify the date format is correct (YYYY-MM-DD)\n",
    "def validate_date(date_str):\n",
    "    try:\n",
    "        datetime.strptime(date_str, \"%Y-%m-%d\")\n",
    "        return True\n",
    "    except ValueError:\n",
    "        return False"
   ]
  }
 ],
 "metadata": {
  "kernelspec": {
   "display_name": "Python 3 (ipykernel)",
   "language": "python",
   "name": "python3"
  },
  "language_info": {
   "codemirror_mode": {
    "name": "ipython",
    "version": 3
   },
   "file_extension": ".py",
   "mimetype": "text/x-python",
   "name": "python",
   "nbconvert_exporter": "python",
   "pygments_lexer": "ipython3",
   "version": "3.12.7"
  }
 },
 "nbformat": 4,
 "nbformat_minor": 5
}
